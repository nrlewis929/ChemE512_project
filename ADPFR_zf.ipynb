{
 "cells": [
  {
   "cell_type": "code",
   "execution_count": 1,
   "metadata": {
    "ExecuteTime": {
     "end_time": "2021-12-13T22:45:42.238768Z",
     "start_time": "2021-12-13T22:45:41.242335Z"
    }
   },
   "outputs": [],
   "source": [
    "import numpy as np\n",
    "import matplotlib.pyplot as plt\n",
    "from scipy.integrate import odeint\n",
    "from mpl_toolkits.mplot3d import Axes3D\n",
    "from matplotlib import cm\n",
    "import pandas as pd"
   ]
  },
  {
   "cell_type": "code",
   "execution_count": 2,
   "metadata": {
    "ExecuteTime": {
     "end_time": "2021-12-13T22:45:42.254778Z",
     "start_time": "2021-12-13T22:45:42.239779Z"
    }
   },
   "outputs": [],
   "source": [
    "# Constants (Table 5)\n",
    "T = 650 +273.15 # K, 650 C\n",
    "P = 101325 # Pa, 1 atm\n",
    "y_in = 0.15 # also use 0.45, 0.75, 0.9\n",
    "F_in = 20 # NmL/min\n",
    "F_in = F_in/(1e6*60) # mL/s\n",
    "d_reactor = 7e-3 # m\n",
    "d_particle = 112.5e-6 # m\n",
    "rho0_particle = 1693 #kg/m3\n",
    "eps0_particle = 0.4\n",
    "ks = 5.95e-7 # m4/kmol-s\n",
    "# ks = ks/1e3 # m4/mol-s\n",
    "alpha = 1.65\n",
    "a = 22.7\n",
    "b = 0.35\n",
    "d0_CaO = 69.5e-9 # m \n",
    "Dr = 1e-5 # m2/s\n",
    "eps = 0.5\n",
    "rho_CaO = 3340 #kg/m3\n",
    "\n",
    "# Additional constants (from paper or known)\n",
    "R = 8.314 #J/molK\n",
    "R = R * 1000 # J/kmolK\n",
    "zeta = 2.18 # CaCO3:CaO molar volume ratio\n",
    "MW_CaO = 56.0774 # g/mol, kg/kmol\n",
    "MW_mayenite = 1386.6 # kg/kmol\n",
    "H = 0.15 # m "
   ]
  },
  {
   "cell_type": "code",
   "execution_count": 3,
   "metadata": {
    "ExecuteTime": {
     "end_time": "2021-12-13T22:45:42.285781Z",
     "start_time": "2021-12-13T22:45:42.264771Z"
    }
   },
   "outputs": [
    {
     "name": "stdout",
     "output_type": "stream",
     "text": [
      "sigma: 500.0\n",
      "C1: 0.5736267381256318\n",
      "C2: 0.5981257485029942\n",
      "C3: 655.8947599837235\n",
      "C4: -655.7232095226722\n",
      "C5: 0.0002615518090975745\n"
     ]
    }
   ],
   "source": [
    "# Computed constants\n",
    "S = np.pi*(d_reactor/2)**2 #m2, reactor cross sectional area\n",
    "Ctot = P/(R*T)\n",
    "u_in = F_in / S\n",
    "tau_b = H / u_in\n",
    "v_CaO = MW_CaO/rho_CaO #m3/kmol\n",
    "n_CaO = rho0_particle / MW_CaO # kmol/m3\n",
    "\n",
    "# Dimensionless quantities\n",
    "DR = Dr * tau_b / H**2\n",
    "U_in = 1 # Dedimensionalized U\n",
    "\n",
    "# Coefficients from Table 4\n",
    "C1 = tau_b / n_CaO\n",
    "C2 = (zeta - 1) * v_CaO * n_CaO\n",
    "C3 = (1 - eps) * tau_b / Ctot \n",
    "C4 = (1 - eps) * C1 * C2 - C3\n",
    "C5 = (zeta - 1) * v_CaO * Ctot\n",
    "\n",
    "# additional computed constants\n",
    "sigma_CaO = 3*(d0_CaO/2)**2/(d_particle/2)**3 #1/m, surface to volume ratio, double check\n",
    "sigma_CaO = 5e2 # artificially increase sigma, which increases the reaction rate (sigma undefined in paper)\n",
    "print('sigma:',sigma_CaO)\n",
    "y_eq = 0.0096 # y of CO2 at equilibrium\n",
    "D_PL0 = 1e-5 # product layer diffusivity coeff, same OEM as Dr\n",
    "\n",
    "print('C1:',C1)\n",
    "print('C2:',C2)\n",
    "print('C3:',C3)\n",
    "print('C4:',C4)\n",
    "print('C5:',C5)"
   ]
  },
  {
   "cell_type": "code",
   "execution_count": 4,
   "metadata": {
    "ExecuteTime": {
     "end_time": "2021-12-13T22:45:42.300768Z",
     "start_time": "2021-12-13T22:45:42.287780Z"
    }
   },
   "outputs": [],
   "source": [
    "# Model functions\n",
    "def A(X):\n",
    "    return eps + (1 - eps)*(eps0_particle - C2 * X)\n",
    "\n",
    "def rcbn(y,X):\n",
    "    numerator = sigma_CaO * n_CaO * ks * (1 - X)**(2/3) * Ctot * (y - y_eq)\n",
    "    \n",
    "    denominator = 1 + (n_CaO * ks)/(2*D_PL0*np.exp(-a*X**b)) * d0_CaO * (1-X)**(1/3) * (1 - ((1-X)/(1-X+X*zeta))**(1/3))\n",
    "    return numerator/denominator"
   ]
  },
  {
   "cell_type": "code",
   "execution_count": 5,
   "metadata": {
    "ExecuteTime": {
     "end_time": "2021-12-13T22:45:42.316767Z",
     "start_time": "2021-12-13T22:45:42.302768Z"
    }
   },
   "outputs": [],
   "source": [
    "# Define model\n",
    "\n",
    "def model_const(y,t,y_in):\n",
    "    dydt = 0*y\n",
    "    y[0] = (y_in+DR/dz*y[1])/(1+DR/dz)\n",
    "    \n",
    "    # initial term\n",
    "    term1a = (2*DR/(A(y[N+1])*dz**2)) * (y[1] - y[0]) \n",
    "    term2a = -(2/(A(y[N+1])*dz) + U_in/(A(y[N+1])*DR)) * (U_in*y[0] - U_in*y_in)\n",
    "    term3a = -(1-C5*y[0]) * C3/A(y[N+1]) * rcbn(y[0],y[N+1])\n",
    "    dydt[0] = term1a + term2a + term3a\n",
    "    \n",
    "    # middle terms\n",
    "    for j in range(1, N):\n",
    "        term1b = (DR/(A(y[N+j+1])*dz**2) - U_in/(2*A(y[N+j+1])*dz))*y[j+1]\n",
    "        term2b = -(2*DR/(A(y[N+j+1])*dz**2))*y[j]\n",
    "        term3b = (DR/(A(y[N+j+1]) * dz**2) + U_in/(A(y[N+j+1])*2*dz)) * y[j-1]\n",
    "        term4b = -(1-C5*y[j]) * C3/A(y[N+j+1]) * rcbn(y[j],y[N+j+1])\n",
    "    \n",
    "        dydt[j] = term1b + term2b + term3b + term4b\n",
    "    \n",
    "    # final term\n",
    "    term1c = (2*DR/(A(y[N+N+1])*dz**2))*(y[N-1] - y[N])\n",
    "    term2c = -(1-C5*y[N])*C3/A(y[N+N+1])*rcbn(y[N],y[N+N+1])\n",
    "    dydt[N] = term1c + term2c\n",
    "    \n",
    "    # dXdt\n",
    "    for i in range(N+1,N+N+2):\n",
    "        dydt[i] = C1 * rcbn(y[i-N-1],y[i])\n",
    "    \n",
    "    return dydt"
   ]
  },
  {
   "cell_type": "code",
   "execution_count": 6,
   "metadata": {
    "ExecuteTime": {
     "end_time": "2021-12-13T22:45:42.332794Z",
     "start_time": "2021-12-13T22:45:42.318768Z"
    }
   },
   "outputs": [],
   "source": [
    "# Define model\n",
    "\n",
    "def model_var(y,t,y_in):\n",
    "    dydt = 0*y\n",
    "#     y[N]=y[N-1]\n",
    "    y[0] = (y_in+DR/dz*y[1])/(1+DR/dz)\n",
    "    \n",
    "    u = 0*y\n",
    "    u[0] = U_in\n",
    "    for i in range(1,N+1):\n",
    "        u[i] = u[i-1] + dz*C4*rcbn(y[i],y[N+i+1])\n",
    "    \n",
    "    # initial term\n",
    "    term1a = (2*DR/(A(y[N+1])*dz**2)) * (y[1] - y[0]) \n",
    "    term2a = -(2/(A(y[N+1])*dz) + u[0]/(A(y[N+1])*DR)) * (u[0]*y[0] - U_in*y_in)\n",
    "    term3a = -(1-y[0]) * C3/A(y[N+1]) * rcbn(y[0],y[N+1])\n",
    "    dydt[0] = term1a + term2a + term3a\n",
    "    \n",
    "    # middle terms\n",
    "    for j in range(1, N):\n",
    "        term1b = (DR/(A(y[N+j+1])*dz**2) - u[j]/(2*A(y[N+j+1])*dz))*y[j+1]\n",
    "        term2b = -(2*DR/(A(y[N+j+1])*dz**2))*y[j]\n",
    "        term3b = (DR/(A(y[N+j+1]) * dz**2) + u[j]/(A(y[N+j+1])*2*dz)) * y[j-1]\n",
    "        term4b = -(1-y[j]) * C3/A(y[N+j+1]) * rcbn(y[j],y[N+j+1])\n",
    "    \n",
    "        dydt[j] = term1b + term2b + term3b + term4b\n",
    "    \n",
    "    # final term\n",
    "    term1c = (2*DR/(A(y[N+N+1])*dz**2))*(y[N-1] - y[N])\n",
    "    term2c = -(1-y[N])*C3/A(y[N+N+1])*rcbn(y[N],y[N+N+1])\n",
    "    dydt[N] = term1c + term2c\n",
    "    \n",
    "    # dXdt\n",
    "    for k in range(N+1,N+N+2):\n",
    "        dydt[k] = C1 * rcbn(y[k-N-1],y[k])\n",
    "    \n",
    "    return dydt"
   ]
  },
  {
   "cell_type": "code",
   "execution_count": 7,
   "metadata": {
    "ExecuteTime": {
     "end_time": "2021-12-13T22:45:42.348768Z",
     "start_time": "2021-12-13T22:45:42.334769Z"
    }
   },
   "outputs": [],
   "source": [
    "# Discretize\n",
    "N = 100\n",
    "Nt = 1000\n",
    "z = np.linspace(0,1,N+1)\n",
    "t = np.linspace(0,2,Nt)\n",
    "\n",
    "dz = np.diff(z)[0]\n",
    "dt = np.diff(t)[0]"
   ]
  },
  {
   "cell_type": "code",
   "execution_count": 8,
   "metadata": {
    "ExecuteTime": {
     "end_time": "2021-12-13T22:46:35.240288Z",
     "start_time": "2021-12-13T22:45:42.351769Z"
    }
   },
   "outputs": [
    {
     "name": "stdout",
     "output_type": "stream",
     "text": [
      "0.15\n",
      "0.45\n",
      "0.75\n",
      "0.9\n"
     ]
    }
   ],
   "source": [
    "# results using combined model\n",
    "\n",
    "# Initial condition\n",
    "y0 = np.zeros(N+N+2)\n",
    "# X = 0 leads to instability, so make it really small\n",
    "y0[-N-1:] = y0[-N-1:] + 1e-5\n",
    "\n",
    "# Test inputs for variable y_in\n",
    "y_ins = [0.15,0.45,0.75,0.90]\n",
    "# Array to store results\n",
    "yfs = np.zeros((8,Nt))\n",
    "\n",
    "for i,yin in enumerate(y_ins):\n",
    "    print(yin)\n",
    "    # Run constant and variable model with the input yin\n",
    "    result_const = odeint(model_const, y0, t,args=(yin,))\n",
    "    result_var = odeint(model_var, y0, t,args=(yin,))\n",
    "    \n",
    "    # Extract final z results\n",
    "    yf_const = result_const[:,:N+1][:,-1]\n",
    "    yf_var = result_var[:,:N+1][:,-1]\n",
    "    \n",
    "    # Save final z results \n",
    "    yfs[i*2,:] = yf_const\n",
    "    yfs[i*2+1,:] = yf_var\n",
    "    "
   ]
  },
  {
   "cell_type": "code",
   "execution_count": 11,
   "metadata": {
    "ExecuteTime": {
     "end_time": "2021-12-13T22:57:24.733742Z",
     "start_time": "2021-12-13T22:57:24.439744Z"
    }
   },
   "outputs": [
    {
     "data": {
      "text/plain": [
       "<matplotlib.legend.Legend at 0x19e20581a30>"
      ]
     },
     "execution_count": 11,
     "metadata": {},
     "output_type": "execute_result"
    },
    {
     "data": {
      "image/png": "[encoded data removed]",
      "text/plain": [
       "<Figure size 432x288 with 1 Axes>"
      ]
     },
     "metadata": {
      "needs_background": "light"
     },
     "output_type": "display_data"
    }
   ],
   "source": [
    "for i,yf in enumerate(yfs):\n",
    "    yin = y_ins[int(i/2)]\n",
    "    if i%2 == 0:\n",
    "        plt.plot(t,yf,'--',label = 'y='+str(yin)+',u(const)')\n",
    "    else:\n",
    "        plt.plot(t,yf,'-',label = 'y='+str(yin)+',u(z,t)')\n",
    "\n",
    "plt.xlabel(r'$t[s]$',size=14)\n",
    "plt.ylabel(r'$y_{CO_2}$',size=14)\n",
    "plt.legend()"
   ]
  }
 ],
 "metadata": {
  "kernelspec": {
   "display_name": "Python 3",
   "language": "python",
   "name": "python3"
  },
  "language_info": {
   "codemirror_mode": {
    "name": "ipython",
    "version": 3
   },
   "file_extension": ".py",
   "mimetype": "text/x-python",
   "name": "python",
   "nbconvert_exporter": "python",
   "pygments_lexer": "ipython3",
   "version": "3.8.5"
  },
  "toc": {
   "base_numbering": 1,
   "nav_menu": {},
   "number_sections": true,
   "sideBar": true,
   "skip_h1_title": false,
   "title_cell": "Table of Contents",
   "title_sidebar": "Contents",
   "toc_cell": false,
   "toc_position": {},
   "toc_section_display": true,
   "toc_window_display": false
  },
  "varInspector": {
   "cols": {
    "lenName": 16,
    "lenType": 16,
    "lenVar": 40
   },
   "kernels_config": {
    "python": {
     "delete_cmd_postfix": "",
     "delete_cmd_prefix": "del ",
     "library": "var_list.py",
     "varRefreshCmd": "print(var_dic_list())"
    },
    "r": {
     "delete_cmd_postfix": ") ",
     "delete_cmd_prefix": "rm(",
     "library": "var_list.r",
     "varRefreshCmd": "cat(var_dic_list()) "
    }
   },
   "types_to_exclude": [
    "module",
    "function",
    "builtin_function_or_method",
    "instance",
    "_Feature"
   ],
   "window_display": false
  }
 },
 "nbformat": 4,
 "nbformat_minor": 4
}
